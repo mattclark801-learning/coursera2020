{
 "cells": [
  {
   "cell_type": "markdown",
   "metadata": {},
   "source": [
    "# Coursera\n",
    "### Wesleyan University Data Analysis and Interpretation Specialization\n",
    "\n",
    "Course 4: Machine Learning for Data Analysis<br>\n",
    "Week 4: Running a k-means Cluster Analysis<br>\n",
    "Author: Matt Clark\n"
   ]
  },
  {
   "cell_type": "markdown",
   "metadata": {},
   "source": [
    "### Instructions:\n",
    "<blockquote>\n",
    "This week’s assignment involves running a k-means cluster analysis. Cluster analysis is an unsupervised machine learning method that partitions the observations in a data set into a smaller set of clusters where each observation belongs to only one cluster. The goal of cluster analysis is to group, or cluster, observations into subsets based on their similarity of responses on multiple variables. Clustering variables should be primarily quantitative variables, but binary variables may also be included.\n",
    "\n",
    "Your assignment is to run a k-means cluster analysis to identify subgroups of observations in your data set that have similar patterns of response on a set of clustering variables.\n",
    "\n",
    "WHAT TO SUBMIT:\n",
    "\n",
    "Following completion of the steps described above, create a blog entry where you submit syntax used to run a k-means cluster analysis (copied and pasted from your program) along with corresponding output and a brief written summary. Please note that your reviewers should NOT be required to download any files in order to complete the review.\n",
    "\n",
    "This assignment does NOT require you to run your cluster analysis again on a test data set. You are welcome to do so, but you are only required to run your cluster analysis once on your training data set. If your data set has a relatively small number of observations, you do not need to split into training and test data sets. You can provide your rationale for not splitting your data set in your written summary.\n",
    "</blockquote>"
   ]
  },
  {
   "cell_type": "markdown",
   "metadata": {},
   "source": [
    "### Data Preparation:"
   ]
  },
  {
   "cell_type": "markdown",
   "metadata": {},
   "source": [
    "#### Import libraries."
   ]
  },
  {
   "cell_type": "code",
   "execution_count": 1,
   "metadata": {},
   "outputs": [],
   "source": [
    "from pathlib import Path\n",
    "from pandas import Series, DataFrame\n",
    "import pandas as pd\n",
    "import numpy as np\n",
    "import matplotlib.pylab as plt\n",
    "from sklearn.model_selection import train_test_split\n",
    "from sklearn import preprocessing\n",
    "from sklearn.cluster import KMeans\n",
    "from scipy.spatial.distance import cdist\n",
    "from sklearn.decomposition import PCA\n",
    "import statsmodels.formula.api as smf\n",
    "import statsmodels.stats.multicomp as multi "
   ]
  },
  {
   "cell_type": "markdown",
   "metadata": {},
   "source": [
    "#### Generate Dataframe."
   ]
  },
  {
   "cell_type": "code",
   "execution_count": 2,
   "metadata": {},
   "outputs": [],
   "source": [
    "root_dir = Path().resolve().parents[1]\n",
    "df = pd.read_csv(str(root_dir)+'/ool_pds.csv', low_memory=False)"
   ]
  },
  {
   "cell_type": "markdown",
   "metadata": {},
   "source": [
    "#### Prepare k-means Cluster Analysis model."
   ]
  },
  {
   "cell_type": "code",
   "execution_count": 3,
   "metadata": {},
   "outputs": [],
   "source": [
    "# columns to be used for our k-means cluster analysis model.\n",
    "kmdf_vars = ['PPEDUCAT', 'PPETHM', 'W1_A1', 'W1_A5A', 'W1_C1', 'W1_C2', 'W1_F2', 'W1_F3', 'W1_F4_D', 'W1_G2', 'W1_H1', 'W1_J2', 'W1_F6', 'W1_P2']"
   ]
  },
  {
   "cell_type": "code",
   "execution_count": 4,
   "metadata": {},
   "outputs": [],
   "source": [
    "# columns to be used for our clustering per se.\n",
    "clust_vars = ['PPEDUCAT', 'PPETHM', 'W1_A1', 'W1_A5A', 'W1_C1', 'W1_C2', 'W1_F2', 'W1_F3', 'W1_F4_D', 'W1_G2', 'W1_H1', 'W1_J2', 'W1_F6']"
   ]
  },
  {
   "cell_type": "code",
   "execution_count": 5,
   "metadata": {},
   "outputs": [],
   "source": [
    "#column to be used for validation\n",
    "val_vars = ['W1_P2',]"
   ]
  },
  {
   "cell_type": "markdown",
   "metadata": {},
   "source": [
    "#### Coerce model columns to numeric type."
   ]
  },
  {
   "cell_type": "code",
   "execution_count": 6,
   "metadata": {},
   "outputs": [],
   "source": [
    "for i in df[kmdf_vars]:\n",
    "    df[i] = df[i].apply(pd.to_numeric, errors='coerce' )\n"
   ]
  },
  {
   "cell_type": "markdown",
   "metadata": {},
   "source": [
    "#### Recode predictor variables."
   ]
  },
  {
   "cell_type": "code",
   "execution_count": 7,
   "metadata": {},
   "outputs": [],
   "source": [
    "ppeducatrecode = {1: 0, 2: 1, 3: 2, 4: 3}\n",
    "df.PPEDUCAT = df.PPEDUCAT.map(ppeducatrecode)"
   ]
  },
  {
   "cell_type": "code",
   "execution_count": 8,
   "metadata": {},
   "outputs": [],
   "source": [
    "ppethmrecode = {1: 0, 2: 1, 3: 2, 4: 3, 5: 4}\n",
    "df.PPETHM = df.PPETHM.map(ppethmrecode)"
   ]
  },
  {
   "cell_type": "code",
   "execution_count": 9,
   "metadata": {},
   "outputs": [],
   "source": [
    "# W1_A1: How interested are you in what's going on in government and politics?\n",
    "# 0: Not 4: very\n",
    "w1a1recode = {-1: np.nan, 5: 0, 4: 1, 3: 2, 2: 3, 1: 4}\n",
    "df.W1_A1 = df.W1_A1.map(w1a1recode)"
   ]
  },
  {
   "cell_type": "code",
   "execution_count": 10,
   "metadata": {},
   "outputs": [],
   "source": [
    "# W1_A5A:  Who did you vote for? 0: Obama, 1: McCain\n",
    "w1a5arecode = {2: 0, 1: 1, 3: np.nan, -1: np.nan}\n",
    "df.W1_A5A = df.W1_A5A.map(w1a5arecode)"
   ]
  },
  {
   "cell_type": "code",
   "execution_count": 11,
   "metadata": {},
   "outputs": [],
   "source": [
    "# recode W1_C1 to be a binary variable, with 0: Democrat, 1: Republican\n",
    "w1c1recode = {-1: np.nan, 1: 1, 2: 0, 3: np.nan, 4: np.nan}\n",
    "df.W1_C1 = df.W1_C1.map(w1c1recode)"
   ]
  },
  {
   "cell_type": "code",
   "execution_count": 12,
   "metadata": {},
   "outputs": [],
   "source": [
    "# W1_C2: We hear a lot of talk these days about liberals and conservatives. Where would you\n",
    "# place YOURSELF on this 7 point scale?\n",
    "w1c2recode = {1: 0, 2: 1, 3: 2, 4: 3, 5: 4, 6: 5, 7: 6, -1: np.nan}\n",
    "df.W1_C2 = df.W1_C2.map(w1c2recode)"
   ]
  },
  {
   "cell_type": "code",
   "execution_count": 13,
   "metadata": {},
   "outputs": [],
   "source": [
    "# W1_F2: Are you optimistic/pessimistic/neither about the future of the united states.\n",
    "w1f2recode = {3: 0, 2: 1, 1: 2, -1: np.nan}\n",
    "df.W1_F2 = df.W1_F2.map(w1f2recode)"
   ]
  },
  {
   "cell_type": "code",
   "execution_count": 14,
   "metadata": {},
   "outputs": [],
   "source": [
    "# W1_F3: A basic American belief has been that if you work hard you can get ahead and reach\n",
    "# the goals you set and more. Is this true or false today?\n",
    "w1f3recode = {7: 0, 6: 1, 5: 2, 4: 3, 3: 4, 2: 5, 1: 6, -1: np.nan}\n",
    "df.W1_F3 = df.W1_F3.map(w1f3recode)"
   ]
  },
  {
   "cell_type": "code",
   "execution_count": 15,
   "metadata": {},
   "outputs": [],
   "source": [
    "# W1_F4_D :  [To become wealthy ] For yourself and people like you, how easy or hard is it to\n",
    "# reach these goals?\n",
    "w1f4drecode = {-1: np.nan,}\n",
    "df.W1_F4_D = df.W1_F4_D.replace(w1f4drecode)"
   ]
  },
  {
   "cell_type": "code",
   "execution_count": 16,
   "metadata": {},
   "outputs": [],
   "source": [
    "# W1_G2: Now thinking about the country's economy, would you say that compared to one year\n",
    "# ago, the nation's economy is now better, about the same, or worse?\n",
    "w1g2recode = {3: 0, 2: 1, 1: 2, -1: np.nan}\n",
    "df.W1_G2 = df.W1_G2.map(w1g2recode)"
   ]
  },
  {
   "cell_type": "code",
   "execution_count": 17,
   "metadata": {},
   "outputs": [],
   "source": [
    "# W1_H1: Society has reached the point where Blacks and Whites have equal opportunities for\n",
    "#achievement.\n",
    "w1h1recode = {5: 0, 4: 1, 3: 2, 2: 3, 1: 4, -1: np.nan}\n",
    "df.W1_H1 = df.W1_H1.map(w1h1recode)"
   ]
  },
  {
   "cell_type": "code",
   "execution_count": 18,
   "metadata": {},
   "outputs": [],
   "source": [
    "# W1_J2: Which of the following statements comes closest to your view concerning same-sex\n",
    "#couples?\n",
    "w1j2recode = {3: 0, 2: 1, 1: 2, -1: np.nan}\n",
    "df.W1_J2 = df.W1_J2.map(w1j2recode)"
   ]
  },
  {
   "cell_type": "code",
   "execution_count": 19,
   "metadata": {},
   "outputs": [],
   "source": [
    "w1f6recode = {-1: np.nan, 1: 0, 2: 1, 3: 2, 4: 3, 5: 4, 6: 5, 7: 6, 8: 7, 9: 8, 10: 9}\n",
    "df.W1_F6 = df.W1_F6.map(w1f6recode)"
   ]
  },
  {
   "cell_type": "markdown",
   "metadata": {},
   "source": [
    "### Recode validation variable."
   ]
  },
  {
   "cell_type": "code",
   "execution_count": 20,
   "metadata": {},
   "outputs": [],
   "source": [
    "w1p2recode = {1: 0, 2: 1, 3: 2, 4: 3, 5: 4, -1: np.nan}\n",
    "df.W1_P2 = df.W1_P2.map(w1p2recode)"
   ]
  },
  {
   "cell_type": "markdown",
   "metadata": {},
   "source": [
    "#### This is the DataFrame we will use for our k-means Cluster Analysis."
   ]
  },
  {
   "cell_type": "code",
   "execution_count": 21,
   "metadata": {},
   "outputs": [],
   "source": [
    "kmdf = df[kmdf_vars].copy().dropna()\n",
    "clust = kmdf[clust_vars]\n",
    "val = kmdf[val_vars]"
   ]
  },
  {
   "cell_type": "markdown",
   "metadata": {},
   "source": [
    "#### Set the $\\mu = 0$, $\\sigma = 1$, for our cluster variables. Notice the suppressed error message."
   ]
  },
  {
   "cell_type": "code",
   "execution_count": 22,
   "metadata": {},
   "outputs": [],
   "source": [
    "from sklearn import preprocessing\n",
    "pd.options.mode.chained_assignment = None  # default='warn'\n",
    "\n",
    "for i in kmdf.columns:\n",
    "    kmdf[i] = preprocessing.scale(kmdf[i].astype('float64'))   "
   ]
  },
  {
   "cell_type": "markdown",
   "metadata": {},
   "source": [
    "#### Train, test, split the data."
   ]
  },
  {
   "cell_type": "code",
   "execution_count": 23,
   "metadata": {},
   "outputs": [],
   "source": [
    "clus_train, clus_test = train_test_split(clust, test_size=.3, random_state=123)\n",
    "\n",
    "# k-means cluster analysis for 1-9 clusters                                                           \n",
    "\n",
    "clust=range(1,10)\n",
    "meandist=[]\n",
    "\n",
    "for k in clust:\n",
    "    model=KMeans(n_clusters=k)\n",
    "    model.fit(clus_train)\n",
    "    clusassign=model.predict(clus_train)\n",
    "    meandist.append(sum(np.min(cdist(clus_train, model.cluster_centers_, 'euclidean'), axis=1)) \n",
    "    / clus_train.shape[0])"
   ]
  },
  {
   "cell_type": "markdown",
   "metadata": {},
   "source": [
    "#### Elbow Plot."
   ]
  },
  {
   "cell_type": "code",
   "execution_count": 24,
   "metadata": {},
   "outputs": [
    {
     "data": {
      "text/plain": [
       "Text(0.5, 1.0, 'Selecting k with the Elbow Method')"
      ]
     },
     "execution_count": 24,
     "metadata": {},
     "output_type": "execute_result"
    },
    {
     "data": {
      "image/png": "[encoded data removed]",
      "text/plain": [
       "<Figure size 432x288 with 1 Axes>"
      ]
     },
     "metadata": {
      "needs_background": "light"
     },
     "output_type": "display_data"
    }
   ],
   "source": [
    "plt.plot(clust, meandist)\n",
    "plt.xlabel('Number of clusters')\n",
    "plt.ylabel('Average distance')\n",
    "plt.title('Selecting k with the Elbow Method')\n"
   ]
  },
  {
   "cell_type": "markdown",
   "metadata": {},
   "source": [
    "#### 4 cluster solution.\n",
    "The Elbow plot suggests that we try 2 or 4 clusters. We will analyze for four clusters, even though two clusters may give us a better separation."
   ]
  },
  {
   "cell_type": "code",
   "execution_count": 25,
   "metadata": {},
   "outputs": [],
   "source": [
    "model4=KMeans(n_clusters=4)\n",
    "model4.fit(clus_train)\n",
    "clusassign=model4.predict(clus_train)"
   ]
  },
  {
   "cell_type": "markdown",
   "metadata": {},
   "source": [
    "#### Plot Clusters."
   ]
  },
  {
   "cell_type": "code",
   "execution_count": 26,
   "metadata": {},
   "outputs": [
    {
     "data": {
      "image/png": "[encoded data removed]",
      "text/plain": [
       "<Figure size 432x288 with 1 Axes>"
      ]
     },
     "metadata": {
      "needs_background": "light"
     },
     "output_type": "display_data"
    }
   ],
   "source": [
    "pca_2 = PCA(2)\n",
    "plot_columns = pca_2.fit_transform(clus_train)\n",
    "plt.scatter(x=plot_columns[:,0], y=plot_columns[:,1], c=model4.labels_,)\n",
    "plt.xlabel('Canonical variable 1')\n",
    "plt.ylabel('Canonical variable 2')\n",
    "plt.title('Scatterplot of Canonical Variables for 4 Clusters')\n",
    "plt.show()"
   ]
  },
  {
   "cell_type": "markdown",
   "metadata": {},
   "source": [
    "### Merge cluster assignment with clustering variables to examine cluster variable means by cluster:"
   ]
  },
  {
   "cell_type": "markdown",
   "metadata": {},
   "source": [
    "#### Create a unique identifier variable from the index for the cluster training data to merge with the cluster assignment variable."
   ]
  },
  {
   "cell_type": "code",
   "execution_count": 27,
   "metadata": {},
   "outputs": [],
   "source": [
    "clus_train.reset_index(level=0, inplace=True)"
   ]
  },
  {
   "cell_type": "markdown",
   "metadata": {},
   "source": [
    "#### Create a list that has the new index variable."
   ]
  },
  {
   "cell_type": "code",
   "execution_count": 28,
   "metadata": {},
   "outputs": [],
   "source": [
    "cluslist=list(clus_train['index'])"
   ]
  },
  {
   "cell_type": "markdown",
   "metadata": {},
   "source": [
    "#### Create a list of cluster assignments."
   ]
  },
  {
   "cell_type": "code",
   "execution_count": 29,
   "metadata": {},
   "outputs": [],
   "source": [
    "\n",
    "labels=list(model4.labels_)"
   ]
  },
  {
   "cell_type": "markdown",
   "metadata": {},
   "source": [
    "#### Combine index variable list with cluster assignment list into a dictionary"
   ]
  },
  {
   "cell_type": "code",
   "execution_count": 32,
   "metadata": {},
   "outputs": [],
   "source": [
    "newlist=dict(zip(cluslist, labels))\n",
    "# newlist.head(5)"
   ]
  },
  {
   "cell_type": "markdown",
   "metadata": {},
   "source": [
    "#### Convert newlist dictionary to a DataFrame."
   ]
  },
  {
   "cell_type": "code",
   "execution_count": 33,
   "metadata": {},
   "outputs": [
    {
     "data": {
      "text/html": [
       "<div>\n",
       "<style scoped>\n",
       "    .dataframe tbody tr th:only-of-type {\n",
       "        vertical-align: middle;\n",
       "    }\n",
       "\n",
       "    .dataframe tbody tr th {\n",
       "        vertical-align: top;\n",
       "    }\n",
       "\n",
       "    .dataframe thead th {\n",
       "        text-align: right;\n",
       "    }\n",
       "</style>\n",
       "<table border=\"1\" class=\"dataframe\">\n",
       "  <thead>\n",
       "    <tr style=\"text-align: right;\">\n",
       "      <th></th>\n",
       "      <th>0</th>\n",
       "    </tr>\n",
       "  </thead>\n",
       "  <tbody>\n",
       "    <tr>\n",
       "      <th>906</th>\n",
       "      <td>3</td>\n",
       "    </tr>\n",
       "    <tr>\n",
       "      <th>1225</th>\n",
       "      <td>2</td>\n",
       "    </tr>\n",
       "    <tr>\n",
       "      <th>679</th>\n",
       "      <td>1</td>\n",
       "    </tr>\n",
       "    <tr>\n",
       "      <th>1522</th>\n",
       "      <td>1</td>\n",
       "    </tr>\n",
       "    <tr>\n",
       "      <th>823</th>\n",
       "      <td>2</td>\n",
       "    </tr>\n",
       "  </tbody>\n",
       "</table>\n",
       "</div>"
      ],
      "text/plain": [
       "      0\n",
       "906   3\n",
       "1225  2\n",
       "679   1\n",
       "1522  1\n",
       "823   2"
      ]
     },
     "execution_count": 33,
     "metadata": {},
     "output_type": "execute_result"
    }
   ],
   "source": [
    "newclus=DataFrame.from_dict(newlist, orient='index')\n",
    "newclus.head(5)"
   ]
  },
  {
   "cell_type": "markdown",
   "metadata": {},
   "source": [
    "#### Rename the cluster assignment column."
   ]
  },
  {
   "cell_type": "code",
   "execution_count": 34,
   "metadata": {},
   "outputs": [],
   "source": [
    "newclus.columns = ['clust']"
   ]
  },
  {
   "cell_type": "markdown",
   "metadata": {},
   "source": [
    "#### Now we do the same for the cluster assignment variable. We create a unique identifier variable from the index for the cluster assignment DataFrame to merge with cluster training data."
   ]
  },
  {
   "cell_type": "code",
   "execution_count": 35,
   "metadata": {},
   "outputs": [],
   "source": [
    "newclus.reset_index(level=0, inplace=True)"
   ]
  },
  {
   "cell_type": "markdown",
   "metadata": {},
   "source": [
    "#### Now we merge the cluster assignment dataframe with the cluster training variable dataframe by the index variable."
   ]
  },
  {
   "cell_type": "code",
   "execution_count": 36,
   "metadata": {},
   "outputs": [
    {
     "data": {
      "text/html": [
       "<div>\n",
       "<style scoped>\n",
       "    .dataframe tbody tr th:only-of-type {\n",
       "        vertical-align: middle;\n",
       "    }\n",
       "\n",
       "    .dataframe tbody tr th {\n",
       "        vertical-align: top;\n",
       "    }\n",
       "\n",
       "    .dataframe thead th {\n",
       "        text-align: right;\n",
       "    }\n",
       "</style>\n",
       "<table border=\"1\" class=\"dataframe\">\n",
       "  <thead>\n",
       "    <tr style=\"text-align: right;\">\n",
       "      <th></th>\n",
       "      <th>index</th>\n",
       "      <th>PPEDUCAT</th>\n",
       "      <th>PPETHM</th>\n",
       "      <th>W1_A1</th>\n",
       "      <th>W1_A5A</th>\n",
       "      <th>W1_C1</th>\n",
       "      <th>W1_C2</th>\n",
       "      <th>W1_F2</th>\n",
       "      <th>W1_F3</th>\n",
       "      <th>W1_F4_D</th>\n",
       "      <th>W1_G2</th>\n",
       "      <th>W1_H1</th>\n",
       "      <th>W1_J2</th>\n",
       "      <th>W1_F6</th>\n",
       "      <th>clust</th>\n",
       "    </tr>\n",
       "  </thead>\n",
       "  <tbody>\n",
       "    <tr>\n",
       "      <th>0</th>\n",
       "      <td>906</td>\n",
       "      <td>1</td>\n",
       "      <td>1</td>\n",
       "      <td>3.0</td>\n",
       "      <td>0.0</td>\n",
       "      <td>0.0</td>\n",
       "      <td>3.0</td>\n",
       "      <td>2.0</td>\n",
       "      <td>5.0</td>\n",
       "      <td>3.0</td>\n",
       "      <td>1.0</td>\n",
       "      <td>0.0</td>\n",
       "      <td>2.0</td>\n",
       "      <td>5.0</td>\n",
       "      <td>3</td>\n",
       "    </tr>\n",
       "    <tr>\n",
       "      <th>1</th>\n",
       "      <td>1225</td>\n",
       "      <td>2</td>\n",
       "      <td>4</td>\n",
       "      <td>1.0</td>\n",
       "      <td>1.0</td>\n",
       "      <td>1.0</td>\n",
       "      <td>5.0</td>\n",
       "      <td>1.0</td>\n",
       "      <td>0.0</td>\n",
       "      <td>2.0</td>\n",
       "      <td>0.0</td>\n",
       "      <td>3.0</td>\n",
       "      <td>0.0</td>\n",
       "      <td>5.0</td>\n",
       "      <td>2</td>\n",
       "    </tr>\n",
       "    <tr>\n",
       "      <th>2</th>\n",
       "      <td>679</td>\n",
       "      <td>0</td>\n",
       "      <td>0</td>\n",
       "      <td>3.0</td>\n",
       "      <td>1.0</td>\n",
       "      <td>1.0</td>\n",
       "      <td>5.0</td>\n",
       "      <td>0.0</td>\n",
       "      <td>5.0</td>\n",
       "      <td>1.0</td>\n",
       "      <td>0.0</td>\n",
       "      <td>3.0</td>\n",
       "      <td>1.0</td>\n",
       "      <td>6.0</td>\n",
       "      <td>1</td>\n",
       "    </tr>\n",
       "    <tr>\n",
       "      <th>3</th>\n",
       "      <td>1522</td>\n",
       "      <td>1</td>\n",
       "      <td>0</td>\n",
       "      <td>3.0</td>\n",
       "      <td>1.0</td>\n",
       "      <td>1.0</td>\n",
       "      <td>6.0</td>\n",
       "      <td>0.0</td>\n",
       "      <td>5.0</td>\n",
       "      <td>1.0</td>\n",
       "      <td>0.0</td>\n",
       "      <td>3.0</td>\n",
       "      <td>0.0</td>\n",
       "      <td>6.0</td>\n",
       "      <td>1</td>\n",
       "    </tr>\n",
       "    <tr>\n",
       "      <th>4</th>\n",
       "      <td>823</td>\n",
       "      <td>2</td>\n",
       "      <td>1</td>\n",
       "      <td>1.0</td>\n",
       "      <td>0.0</td>\n",
       "      <td>0.0</td>\n",
       "      <td>3.0</td>\n",
       "      <td>0.0</td>\n",
       "      <td>2.0</td>\n",
       "      <td>1.0</td>\n",
       "      <td>0.0</td>\n",
       "      <td>0.0</td>\n",
       "      <td>2.0</td>\n",
       "      <td>4.0</td>\n",
       "      <td>2</td>\n",
       "    </tr>\n",
       "  </tbody>\n",
       "</table>\n",
       "</div>"
      ],
      "text/plain": [
       "   index  PPEDUCAT  PPETHM  W1_A1  W1_A5A  W1_C1  W1_C2  W1_F2  W1_F3  \\\n",
       "0    906         1       1    3.0     0.0    0.0    3.0    2.0    5.0   \n",
       "1   1225         2       4    1.0     1.0    1.0    5.0    1.0    0.0   \n",
       "2    679         0       0    3.0     1.0    1.0    5.0    0.0    5.0   \n",
       "3   1522         1       0    3.0     1.0    1.0    6.0    0.0    5.0   \n",
       "4    823         2       1    1.0     0.0    0.0    3.0    0.0    2.0   \n",
       "\n",
       "   W1_F4_D  W1_G2  W1_H1  W1_J2  W1_F6  clust  \n",
       "0      3.0    1.0    0.0    2.0    5.0      3  \n",
       "1      2.0    0.0    3.0    0.0    5.0      2  \n",
       "2      1.0    0.0    3.0    1.0    6.0      1  \n",
       "3      1.0    0.0    3.0    0.0    6.0      1  \n",
       "4      1.0    0.0    0.0    2.0    4.0      2  "
      ]
     },
     "execution_count": 36,
     "metadata": {},
     "output_type": "execute_result"
    }
   ],
   "source": [
    "merged_train=pd.merge(clus_train, newclus, on='index')\n",
    "merged_train.head(n=5)"
   ]
  },
  {
   "cell_type": "markdown",
   "metadata": {},
   "source": [
    "#### Cluster frequencies."
   ]
  },
  {
   "cell_type": "code",
   "execution_count": 37,
   "metadata": {},
   "outputs": [
    {
     "data": {
      "text/plain": [
       "3    262\n",
       "0    203\n",
       "1    186\n",
       "2    174\n",
       "Name: clust, dtype: int64"
      ]
     },
     "execution_count": 37,
     "metadata": {},
     "output_type": "execute_result"
    }
   ],
   "source": [
    "merged_train.clust.value_counts()"
   ]
  },
  {
   "cell_type": "markdown",
   "metadata": {},
   "source": [
    "#### Then we will calculate clustering variable means by cluster."
   ]
  },
  {
   "cell_type": "code",
   "execution_count": 38,
   "metadata": {},
   "outputs": [
    {
     "name": "stdout",
     "output_type": "stream",
     "text": [
      "Clustering variable means by cluster\n",
      "             index  PPEDUCAT    PPETHM     W1_A1    W1_A5A     W1_C1  \\\n",
      "clust                                                                  \n",
      "0      1149.187192  1.453202  0.871921  2.251232  0.118227  0.123153   \n",
      "1      1044.155914  1.849462  0.548387  2.548387  0.645161  0.661290   \n",
      "2      1211.390805  2.091954  0.729885  2.522989  0.189655  0.189655   \n",
      "3      1145.374046  2.251908  0.927481  2.816794  0.019084  0.034351   \n",
      "\n",
      "          W1_C2     W1_F2     W1_F3   W1_F4_D     W1_G2     W1_H1     W1_J2  \\\n",
      "clust                                                                         \n",
      "0      3.054187  1.325123  4.477833  1.344828  1.004926  1.669951  1.004926   \n",
      "1      4.473118  0.956989  4.564516  1.747312  0.650538  2.677419  0.844086   \n",
      "2      2.603448  0.827586  1.344828  1.241379  0.977011  1.247126  1.206897   \n",
      "3      2.000000  1.503817  4.740458  1.679389  1.339695  1.053435  1.301527   \n",
      "\n",
      "          W1_F6  \n",
      "clust            \n",
      "0      3.290640  \n",
      "1      6.881720  \n",
      "2      5.103448  \n",
      "3      6.973282  \n"
     ]
    }
   ],
   "source": [
    "clustergrp = merged_train.groupby('clust').mean()\n",
    "print (\"Clustering variable means by cluster\")\n",
    "print(clustergrp)"
   ]
  },
  {
   "cell_type": "markdown",
   "metadata": {},
   "source": [
    "#### We validate the clusters in our training data by examining differences in the clusters in our validation variable (Class / W1_P2) using ANOVA. First we merge the W1_P2 data with clustering variables and cluster assignment data. Then we split Class (W1_P2) data into train and test sets."
   ]
  },
  {
   "cell_type": "code",
   "execution_count": 39,
   "metadata": {},
   "outputs": [],
   "source": [
    "val_train, val_test = train_test_split(val, test_size=.3, random_state=123)\n",
    "val_train1=pd.DataFrame(val_train)\n",
    "val_train1.reset_index(level=0, inplace=True)\n",
    "merged_train_all=pd.merge(val_train1, merged_train, on='index')\n",
    "sub1 = merged_train_all[['W1_P2', 'clust']].dropna()"
   ]
  },
  {
   "cell_type": "code",
   "execution_count": 40,
   "metadata": {},
   "outputs": [
    {
     "name": "stdout",
     "output_type": "stream",
     "text": [
      "                            OLS Regression Results                            \n",
      "==============================================================================\n",
      "Dep. Variable:                  W1_P2   R-squared:                       0.120\n",
      "Model:                            OLS   Adj. R-squared:                  0.117\n",
      "Method:                 Least Squares   F-statistic:                     37.35\n",
      "Date:                Sun, 18 Oct 2020   Prob (F-statistic):           1.24e-22\n",
      "Time:                        19:46:20   Log-Likelihood:                -973.51\n",
      "No. Observations:                 825   AIC:                             1955.\n",
      "Df Residuals:                     821   BIC:                             1974.\n",
      "Df Model:                           3                                         \n",
      "Covariance Type:            nonrobust                                         \n",
      "=================================================================================\n",
      "                    coef    std err          t      P>|t|      [0.025      0.975]\n",
      "---------------------------------------------------------------------------------\n",
      "Intercept         1.1921      0.055     21.517      0.000       1.083       1.301\n",
      "C(clust)[T.1]     0.7326      0.080      9.143      0.000       0.575       0.890\n",
      "C(clust)[T.2]     0.2677      0.082      3.282      0.001       0.108       0.428\n",
      "C(clust)[T.3]     0.6323      0.074      8.567      0.000       0.487       0.777\n",
      "==============================================================================\n",
      "Omnibus:                        0.120   Durbin-Watson:                   2.150\n",
      "Prob(Omnibus):                  0.942   Jarque-Bera (JB):                0.060\n",
      "Skew:                          -0.014   Prob(JB):                        0.970\n",
      "Kurtosis:                       3.030   Cond. No.                         4.86\n",
      "==============================================================================\n",
      "\n",
      "Warnings:\n",
      "[1] Standard Errors assume that the covariance matrix of the errors is correctly specified.\n",
      "means for W1_P2 by cluster\n",
      "          W1_P2\n",
      "clust          \n",
      "0      1.192118\n",
      "1      1.924731\n",
      "2      1.459770\n",
      "3      1.824427\n",
      "standard deviations for W1_P2 by cluster\n",
      "          W1_P2\n",
      "clust          \n",
      "0      0.775578\n",
      "1      0.795073\n",
      "2      0.794557\n",
      "3      0.792502\n",
      "Multiple Comparison of Means - Tukey HSD, FWER=0.05 \n",
      "====================================================\n",
      "group1 group2 meandiff p-adj   lower   upper  reject\n",
      "----------------------------------------------------\n",
      "     0      1   0.7326  0.001  0.5263  0.9389   True\n",
      "     0      2   0.2677 0.0059  0.0577  0.4776   True\n",
      "     0      3   0.6323  0.001  0.4423  0.8223   True\n",
      "     1      2   -0.465  0.001 -0.6793 -0.2506   True\n",
      "     1      3  -0.1003 0.5416 -0.2951  0.0945  False\n",
      "     2      3   0.3647  0.001  0.1659  0.5634   True\n",
      "----------------------------------------------------\n"
     ]
    }
   ],
   "source": [
    "valmod = smf.ols(formula='W1_P2 ~ C(clust)', data=sub1).fit()\n",
    "print (valmod.summary())\n",
    "\n",
    "print ('means for W1_P2 by cluster')\n",
    "m1= sub1.groupby('clust').mean()\n",
    "print (m1)\n",
    "\n",
    "print ('standard deviations for W1_P2 by cluster')\n",
    "m2= sub1.groupby('clust').std()\n",
    "print (m2)\n",
    "\n",
    "mc1 = multi.MultiComparison(sub1['W1_P2'], sub1['clust'])\n",
    "res1 = mc1.tukeyhsd()\n",
    "print(res1.summary())"
   ]
  },
  {
   "cell_type": "markdown",
   "metadata": {},
   "source": [
    "### Summary:\n",
    "For what may be our final analysis of the Outlook On Life data set, we have performed a k-means cluster analysis, to look for clusters among 14 variables. Our variables included Level of Education, Level of interest in government and politics, candidate voted for in the 2012 presidential election, political party affiliation, placement on a spectrum ranging between liberalism and conservativism, optimism for the future of the united states, belief that a person can work hard to get ahead, opinion on the difficulty of becoming wealthy, opinion as to whether the United States economy has improve year over year, belief that racial parity has been reached in the United States, and opinion about same sex marriage. All of these variables are categorical, or dichotomous/categorical, with multi-segmented well ordered categorical variables (including 0 measures) serving as quantitative variables. We used a categorical variable indicating respondents' endorsement of socioeconomic class (poor / working class / middle class / upper-middle class / upper class) in an effort to validate our clusters.\n",
    "We split our data into a training set consisting of 70% of the data and a test set including 30% of our data.\n",
    "<br>\n",
    "We used the Euclidean $\\ell_2$ norm to conduct a k-means cluster analyses on the training data, testing against $k = 1, 2, \\ldots 9$ clusters. The R-squared values were used to account for variance between clusters, and an Elbow Plot was created to give visual indication of the number of clusters that should be used. It indicated for either 2 or 4 clusters and while we realize that 2 clusters may have yielded better separation, we elected to use 4 clusters.\n",
    "<br>\n",
    "We reduced our original 14 variables into canonical discriminant variables, creating a scatter plot of the first two. We notice that the four clusters are densely packed, but we see a not insignificant amount of overlap, especially between the clusters represented by purple and teal colors. \n",
    "<br>\n",
    "The cluster means showed good separation along most variables, especially on which presidential candiate a respondent endorsed to have voted for in the 2012 presidential election, and economic optimism.<br>\n",
    "As in the example distributed with this course, we've run an Analysis of Variance (ANOVA) to search for significant difference between cluster's on the variable that we've chosen to validate (endorsed economic class), and we've used a Tukey test for post hoc comparisons between the clusters.\n",
    "With an R-squared of $0.12$, the validating variable contributes a non-negligible amount of the variance between clusters, and the $p-value$ of $8.93 \\times 10^{23}$ is certainly significant.\n",
    "Finally, the multi comparison of means Tukey Honestly Significant difference gives pairwise significant $p-values$ for all pairs of clusters, excluding clusters 1 and 3. This indicates that there is mainly a good separation between all of our clusters, but provides support for the argument in favor of separating our data into two clusters instead of four, which analysis we may do at a later time."
   ]
  }
 ],
 "metadata": {
  "kernelspec": {
   "display_name": "Python 3",
   "language": "python",
   "name": "python3"
  },
  "language_info": {
   "codemirror_mode": {
    "name": "ipython",
    "version": 3
   },
   "file_extension": ".py",
   "mimetype": "text/x-python",
   "name": "python",
   "nbconvert_exporter": "python",
   "pygments_lexer": "ipython3",
   "version": "3.8.3"
  }
 },
 "nbformat": 4,
 "nbformat_minor": 4
}
