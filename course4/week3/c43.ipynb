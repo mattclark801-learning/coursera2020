{
 "cells": [
  {
   "cell_type": "markdown",
   "metadata": {},
   "source": [
    "# Coursera\n",
    "### Wesleyan University Data Analysis and Interpretation Specialization\n",
    "\n",
    "Course 4: Machine Learning for Data Analysis<br>\n",
    "Week 3: Running a Lasso Regression<br>\n",
    "Author: Matt Clark\n"
   ]
  },
  {
   "cell_type": "markdown",
   "metadata": {},
   "source": [
    "### Instructions:\n",
    "<blockquote>\n",
    "This week’s assignment involves running a lasso regression analysis. Lasso regression analysis is a shrinkage and variable selection method for linear regression models. The goal of lasso regression is to obtain the subset of predictors that minimizes prediction error for a quantitative response variable. The lasso does this by imposing a constraint on the model parameters that causes regression coefficients for some variables to shrink toward zero. Variables with a regression coefficient equal to zero after the shrinkage process are excluded from the model. Variables with non-zero regression coefficients variables are most strongly associated with the response variable. Explanatory variables can be either quantitative, categorical or both.\n",
    "\n",
    "Your assignment is to run a lasso regression analysis using k-fold cross validation to identify a subset of predictors from a larger pool of predictor variables that best predicts a quantitative response variable.\n",
    "\n",
    "WHAT TO SUBMIT:\n",
    "\n",
    "Following completion of the steps described above, create a blog entry where you submit syntax used to run a lasso regression (copied and pasted from your program) along with corresponding output and a brief written summary. Please note that your reviewers should NOT be required to download any files in order to complete the review.\n",
    "\n",
    "If your data set has a relatively small number of observations, you do not need to split into training and test data sets. You can provide your rationale for not splitting your data set in your written summary.\n",
    "</blockquote>"
   ]
  },
  {
   "cell_type": "markdown",
   "metadata": {},
   "source": [
    "### Data Preparation:"
   ]
  },
  {
   "cell_type": "markdown",
   "metadata": {},
   "source": [
    "#### Import libraries."
   ]
  },
  {
   "cell_type": "code",
   "execution_count": 1,
   "metadata": {},
   "outputs": [],
   "source": [
    "import pandas as pd\n",
    "import numpy as np\n",
    "import matplotlib.pylab as plt\n",
    "from sklearn.model_selection import train_test_split\n",
    "from sklearn.linear_model import LassoLarsCV\n",
    "from pathlib import Path"
   ]
  },
  {
   "cell_type": "markdown",
   "metadata": {},
   "source": [
    "#### Generate Dataframe."
   ]
  },
  {
   "cell_type": "code",
   "execution_count": 2,
   "metadata": {},
   "outputs": [],
   "source": [
    "root_dir = Path().resolve().parents[1]\n",
    "df = pd.read_csv(str(root_dir)+'/ool_pds.csv', low_memory=False)"
   ]
  },
  {
   "cell_type": "markdown",
   "metadata": {},
   "source": [
    "#### Prepare Lasso Regression Model."
   ]
  },
  {
   "cell_type": "code",
   "execution_count": 3,
   "metadata": {},
   "outputs": [],
   "source": [
    "pdf_vars = ['PPEDUCAT', 'PPETHM', 'W1_A1', 'W1_A5A', 'W1_C1', 'W1_C2', 'W1_F2', 'W1_F3', 'W1_F4_D', 'W1_G2', 'W1_H1', 'W1_J2', 'W1_F6']"
   ]
  },
  {
   "cell_type": "code",
   "execution_count": 4,
   "metadata": {},
   "outputs": [],
   "source": [
    "p_vars = ['PPEDUCAT', 'PPETHM', 'W1_A1', 'W1_A5A', 'W1_C1', 'W1_C2', 'W1_F2', 'W1_F3', 'W1_F4_D', 'W1_G2', 'W1_H1', 'W1_J2']"
   ]
  },
  {
   "cell_type": "code",
   "execution_count": 5,
   "metadata": {},
   "outputs": [],
   "source": [
    "t_vars = ['W1_F6',]"
   ]
  },
  {
   "cell_type": "markdown",
   "metadata": {},
   "source": [
    "#### Coerce model columns to numeric type."
   ]
  },
  {
   "cell_type": "code",
   "execution_count": 6,
   "metadata": {},
   "outputs": [],
   "source": [
    "for i in df[p_vars]:\n",
    "    df[i] = df[i].apply(pd.to_numeric, errors='coerce' )\n"
   ]
  },
  {
   "cell_type": "markdown",
   "metadata": {},
   "source": [
    "#### Recode predictor variables."
   ]
  },
  {
   "cell_type": "code",
   "execution_count": 7,
   "metadata": {},
   "outputs": [],
   "source": [
    "ppeducatrecode = {1: 0, 2: 1, 3: 2, 4: 3}\n",
    "df.PPEDUCAT = df.PPEDUCAT.map(ppeducatrecode)"
   ]
  },
  {
   "cell_type": "code",
   "execution_count": 8,
   "metadata": {},
   "outputs": [],
   "source": [
    "ppethmrecode = {1: 0, 2: 1, 3: 2, 4: 3, 5: 4}\n",
    "df.PPETHM = df.PPETHM.map(ppethmrecode)"
   ]
  },
  {
   "cell_type": "code",
   "execution_count": 9,
   "metadata": {},
   "outputs": [],
   "source": [
    "# W1_A1: How interested are you in what's going on in government and politics?\n",
    "# 0: Not 4: very\n",
    "w1a1recode = {-1: np.nan, 5: 0, 4: 1, 3: 2, 2: 3, 1: 4}\n",
    "df.W1_A1 = df.W1_A1.map(w1a1recode)"
   ]
  },
  {
   "cell_type": "code",
   "execution_count": 10,
   "metadata": {},
   "outputs": [],
   "source": [
    "# W1_A5A:  Who did you vote for? 0: Obama, 1: McCain\n",
    "w1a5arecode = {2: 0, 1: 1, 3: np.nan, -1: np.nan}\n",
    "df.W1_A5A = df.W1_A5A.map(w1a5arecode)"
   ]
  },
  {
   "cell_type": "code",
   "execution_count": 11,
   "metadata": {},
   "outputs": [],
   "source": [
    "# recode W1_C1 to be a binary variable, with 0: Democrat, 1: Republican\n",
    "w1c1recode = {-1: np.nan, 1: 1, 2: 0, 3: np.nan, 4: np.nan}\n",
    "df.W1_C1 = df.W1_C1.map(w1c1recode)"
   ]
  },
  {
   "cell_type": "code",
   "execution_count": 12,
   "metadata": {},
   "outputs": [],
   "source": [
    "# W1_C2: We hear a lot of talk these days about liberals and conservatives. Where would you\n",
    "# place YOURSELF on this 7 point scale?\n",
    "w1c2recode = {1: 0, 2: 1, 3: 2, 4: 3, 5: 4, 6: 5, 7: 6, -1: np.nan}\n",
    "df.W1_C2 = df.W1_C2.map(w1c2recode)"
   ]
  },
  {
   "cell_type": "code",
   "execution_count": 13,
   "metadata": {},
   "outputs": [],
   "source": [
    "# W1_F2: Are you optimistic/pessimistic/neither about the future of the united states.\n",
    "w1f2recode = {3: 0, 2: 1, 1: 2, -1: np.nan}\n",
    "df.W1_F2 = df.W1_F2.map(w1f2recode)"
   ]
  },
  {
   "cell_type": "code",
   "execution_count": 14,
   "metadata": {},
   "outputs": [],
   "source": [
    "# W1_F3: A basic American belief has been that if you work hard you can get ahead and reach\n",
    "# the goals you set and more. Is this true or false today?\n",
    "w1f3recode = {7: 0, 6: 1, 5: 2, 4: 3, 3: 4, 2: 5, 1: 6, -1: np.nan}\n",
    "df.W1_F3 = df.W1_F3.map(w1f3recode)"
   ]
  },
  {
   "cell_type": "code",
   "execution_count": 15,
   "metadata": {},
   "outputs": [],
   "source": [
    "# W1_F4_D :  [To become wealthy ] For yourself and people like you, how easy or hard is it to\n",
    "# reach these goals?\n",
    "w1f4drecode = {-1: np.nan,}\n",
    "df.W1_F4_D = df.W1_F4_D.replace(w1f4drecode)"
   ]
  },
  {
   "cell_type": "code",
   "execution_count": 16,
   "metadata": {},
   "outputs": [],
   "source": [
    "# W1_G2: Now thinking about the country's economy, would you say that compared to one year\n",
    "# ago, the nation's economy is now better, about the same, or worse?\n",
    "w1g2recode = {3: 0, 2: 1, 1: 2, -1: np.nan}\n",
    "df.W1_G2 = df.W1_G2.map(w1g2recode)"
   ]
  },
  {
   "cell_type": "code",
   "execution_count": 17,
   "metadata": {},
   "outputs": [],
   "source": [
    "# W1_H1: Society has reached the point where Blacks and Whites have equal opportunities for\n",
    "#achievement.\n",
    "w1h1recode = {5: 0, 4: 1, 3: 2, 2: 3, 1: 4, -1: np.nan}\n",
    "df.W1_H1 = df.W1_H1.map(w1h1recode)\n"
   ]
  },
  {
   "cell_type": "code",
   "execution_count": 18,
   "metadata": {},
   "outputs": [],
   "source": [
    "# W1_J2: Which of the following statements comes closest to your view concerning same-sex\n",
    "#couples?\n",
    "w1j2recode = {3: 0, 2: 1, 1: 2, -1: np.nan}\n",
    "df.W1_J2 = df.W1_J2.map(w1j2recode)"
   ]
  },
  {
   "cell_type": "markdown",
   "metadata": {},
   "source": [
    "#### Recode target variable."
   ]
  },
  {
   "cell_type": "code",
   "execution_count": 19,
   "metadata": {},
   "outputs": [],
   "source": [
    "w1f6recode = {-1: np.nan, 1: 0, 2: 1, 3: 2, 4: 3, 5: 4, 6: 5, 7: 6, 8: 7, 9: 8, 10: 9}\n",
    "df.W1_F6 = df.W1_F6.map(w1f6recode)"
   ]
  },
  {
   "cell_type": "markdown",
   "metadata": {},
   "source": [
    "#### This is the DataFrame we will use for our model."
   ]
  },
  {
   "cell_type": "code",
   "execution_count": 20,
   "metadata": {},
   "outputs": [],
   "source": [
    "pdf = df[pdf_vars].copy().dropna()\n",
    "predictors = pdf[p_vars]\n",
    "target = pdf[t_vars]"
   ]
  },
  {
   "cell_type": "markdown",
   "metadata": {},
   "source": [
    "#### Set the $\\mu = 0$, $\\sigma = 1$, for our predictors. Notice the suppressed error message."
   ]
  },
  {
   "cell_type": "code",
   "execution_count": 21,
   "metadata": {},
   "outputs": [],
   "source": [
    "from sklearn import preprocessing\n",
    "pd.options.mode.chained_assignment = None  # default='warn'\n",
    "\n",
    "for i in pdf.columns:\n",
    "    pdf[i] = preprocessing.scale(pdf[i].astype('float64'))   "
   ]
  },
  {
   "cell_type": "markdown",
   "metadata": {},
   "source": [
    "#### Train, test, split the data."
   ]
  },
  {
   "cell_type": "code",
   "execution_count": 22,
   "metadata": {},
   "outputs": [
    {
     "data": {
      "text/plain": [
       "{'PPEDUCAT': 0.523454764477243,\n",
       " 'PPETHM': 0.08630876664382732,\n",
       " 'W1_A1': 0.27175665736290017,\n",
       " 'W1_A5A': 0.5403239530778183,\n",
       " 'W1_C1': 0.0,\n",
       " 'W1_C2': -0.060786632183546734,\n",
       " 'W1_F2': 0.02544479786950105,\n",
       " 'W1_F3': 0.13235615869655953,\n",
       " 'W1_F4_D': 0.7906741469519203,\n",
       " 'W1_G2': 0.06962494661467343,\n",
       " 'W1_H1': 0.023837930824177303,\n",
       " 'W1_J2': 0.0}"
      ]
     },
     "execution_count": 22,
     "metadata": {},
     "output_type": "execute_result"
    }
   ],
   "source": [
    "# split data into train and test sets\n",
    "pred_train, pred_test, tar_train, tar_test = train_test_split(predictors, target, \n",
    "                                                              test_size=.3, random_state=123)\n",
    "\n",
    "# specify the lasso regression model\n",
    "model=LassoLarsCV(cv=10, precompute=False).fit(pred_train,tar_train.values.ravel())\n",
    "\n",
    "# print variable names and regression coefficients\n",
    "dict(zip(predictors.columns, model.coef_))\n"
   ]
  },
  {
   "cell_type": "code",
   "execution_count": 23,
   "metadata": {},
   "outputs": [
    {
     "data": {
      "text/plain": [
       "Text(0.5, 1.0, 'Regression Coefficients Progression for Lasso Paths')"
      ]
     },
     "execution_count": 23,
     "metadata": {},
     "output_type": "execute_result"
    },
    {
     "data": {
      "image/png": "[encoded data removed]",
      "text/plain": [
       "<Figure size 432x288 with 1 Axes>"
      ]
     },
     "metadata": {
      "needs_background": "light"
     },
     "output_type": "display_data"
    }
   ],
   "source": [
    "# plot coefficient progression\n",
    "m_log_alphas = -np.log10(model.alphas_)\n",
    "ax = plt.gca()\n",
    "plt.plot(m_log_alphas, model.coef_path_.T)\n",
    "plt.axvline(-np.log10(model.alpha_), linestyle='--', color='k',\n",
    "            label='alpha CV')\n",
    "plt.ylabel('Regression Coefficients')\n",
    "plt.xlabel('-log(alpha)')\n",
    "plt.title('Regression Coefficients Progression for Lasso Paths')\n"
   ]
  },
  {
   "cell_type": "code",
   "execution_count": 24,
   "metadata": {},
   "outputs": [],
   "source": [
    "model.cv_alphas_[0] = 0.00000001e+00 # This is a complete hack to circumvent a divide by zero error thrown by np.log10"
   ]
  },
  {
   "cell_type": "code",
   "execution_count": 25,
   "metadata": {},
   "outputs": [
    {
     "data": {
      "text/plain": [
       "Text(0.5, 1.0, 'Mean squared error on each fold')"
      ]
     },
     "execution_count": 25,
     "metadata": {},
     "output_type": "execute_result"
    },
    {
     "data": {
      "image/png": "[encoded data removed]",
      "text/plain": [
       "<Figure size 432x288 with 1 Axes>"
      ]
     },
     "metadata": {
      "needs_background": "light"
     },
     "output_type": "display_data"
    }
   ],
   "source": [
    "# plot mean square error for each fold\n",
    "m_log_alphascv = -np.log10(model.cv_alphas_)\n",
    "plt.figure()\n",
    "plt.plot(m_log_alphascv, model.mse_path_, ':')\n",
    "plt.plot(m_log_alphascv, model.mse_path_.mean(axis=-1), 'k',\n",
    "         label='Average across the folds', linewidth=2)\n",
    "plt.axvline(-np.log10(model.alpha_), linestyle='--', color='k',\n",
    "            label='alpha CV')\n",
    "plt.legend()\n",
    "plt.xlabel('-log(alpha)')\n",
    "plt.ylabel('Mean squared error')\n",
    "plt.title('Mean squared error on each fold')"
   ]
  },
  {
   "cell_type": "code",
   "execution_count": 26,
   "metadata": {},
   "outputs": [
    {
     "name": "stdout",
     "output_type": "stream",
     "text": [
      "training data MSE\n",
      "3.4503646075483734\n",
      "test data MSE\n",
      "3.4848508903902125\n"
     ]
    }
   ],
   "source": [
    "# MSE from training and test data\n",
    "from sklearn.metrics import mean_squared_error\n",
    "train_error = mean_squared_error(tar_train, model.predict(pred_train))\n",
    "test_error = mean_squared_error(tar_test, model.predict(pred_test))\n",
    "print ('training data MSE')\n",
    "print(train_error)\n",
    "print ('test data MSE')\n",
    "print(test_error)"
   ]
  },
  {
   "cell_type": "code",
   "execution_count": 27,
   "metadata": {},
   "outputs": [
    {
     "name": "stdout",
     "output_type": "stream",
     "text": [
      "training data R-square\n",
      "0.2176165445789211\n",
      "test data R-square\n",
      "0.1845780590124364\n"
     ]
    }
   ],
   "source": [
    "# R-square from training and test data\n",
    "rsquared_train=model.score(pred_train,tar_train)\n",
    "rsquared_test=model.score(pred_test,tar_test)\n",
    "print ('training data R-square')\n",
    "print(rsquared_train)\n",
    "print ('test data R-square')\n",
    "print(rsquared_test)"
   ]
  },
  {
   "cell_type": "markdown",
   "metadata": {},
   "source": [
    "### Summary:\n",
    "\n",
    "For week 3 of module 4, we continue to use the outlook on life data set. We have run a lasso regression to determine which predictor variables are most strongly associated with our target variable.\n",
    "Our 13 predictor variables include Level of Education, Level of interest in government and politics, candidate voted for in the 2012 presidential election, political party affiliation, placement on a spectrum ranging between liberalism and conservativism, optimism for the future of the united states, belief that a person can work hard to get ahead, opinion on the difficulty of becoming wealthy, opinion as to whether the United States economy has improve year over year, belief that racial parity has been reached in the United States, and opinion about same sex marriage. All of these variables are categorical, or dichotomous/categorical.\n",
    "Our target variable is Economic Optimism, as measured by how nearly a respondent believed they would achieve the American Dream, on a scale of 1 to 10 (recoded to range between 0 and 9).\n",
    "Predictor variables were standardized to have mean $\\mu = 0$, and standard deviation $\\sigma = 1$.\n",
    "We divided our data into a training set and a test set, containing .7 and .3 of the data, respectively.\n",
    "As did the example model, we used a least angle regression algorithm with k=10 fold cross validation to estimate and test the lasso regression model.\n",
    "All but 2 of our original 12 predictor variables were retained by the model, with level of education bearing the closest correspondence. The variables not retained were political party identification (democrat or republican) and opinion concerning same sex couples (which served successfully as a control variable). Identification with conservative politics varied inversely with our target. This sentiment may be explained by the time that this survey was administered (near the end of a liberal president's term.)\n",
    "Our R-square term was around .2, meaning that these variables contributed to explaining 20% of the variance in the Economic Optimism variable."
   ]
  }
 ],
 "metadata": {
  "kernelspec": {
   "display_name": "Python 3",
   "language": "python",
   "name": "python3"
  },
  "language_info": {
   "codemirror_mode": {
    "name": "ipython",
    "version": 3
   },
   "file_extension": ".py",
   "mimetype": "text/x-python",
   "name": "python",
   "nbconvert_exporter": "python",
   "pygments_lexer": "ipython3",
   "version": "3.8.3"
  }
 },
 "nbformat": 4,
 "nbformat_minor": 4
}
