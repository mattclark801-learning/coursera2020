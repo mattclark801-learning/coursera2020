{
 "cells": [
  {
   "cell_type": "markdown",
   "metadata": {},
   "source": [
    "### Coursera\n",
    "#### Wesleyan University Data Analysis and Interpretation Specialization\n",
    "###### Course 2: Data Analysis Tools\n",
    "###### Week 4: Testing Moderation\n",
    "###### Author: Matt Clark\n",
    "---"
   ]
  },
  {
   "cell_type": "markdown",
   "metadata": {},
   "source": [
    "#### Introduction:\n",
    "For our final assignment in the Data Analysis Tools course, we test *_moderation_* of variables of interest, a.k.a. *_statistical interaction._* We will resume with use of the Outlook On Life codebook, using our our newly learned tool in an attempt to glean yet more insight from the new analysis of our data."
   ]
  },
  {
   "cell_type": "markdown",
   "metadata": {},
   "source": [
    "First, we will look for an association between the variables *_W1_F6_* ( Economic Optimism: How far along the road to your American Dream do you think you will ultimately get on a 10-point scale where 1 is not far at all and 10 nearly there? ) and *_W1_A5A_* ( Who did you vote for?)"
   ]
  },
  {
   "cell_type": "code",
   "execution_count": 1,
   "metadata": {},
   "outputs": [],
   "source": [
    "# import libraries\n",
    "\n",
    "import pandas as pd\n",
    "import numpy as np\n",
    "import seaborn as sb\n",
    "import scipy\n",
    "import matplotlib.pyplot as plt"
   ]
  },
  {
   "cell_type": "code",
   "execution_count": 2,
   "metadata": {},
   "outputs": [],
   "source": [
    "# generate dataframe\n",
    "\n",
    "df = pd.read_csv('mycodebook.csv', low_memory=False)"
   ]
  },
  {
   "cell_type": "code",
   "execution_count": 3,
   "metadata": {},
   "outputs": [],
   "source": [
    "# condition/subset data\n",
    "\n",
    "# exclude unusable W1_A5A, W1_C1 values\n",
    "df1 = df[(df['W1_A5A'] >=1) & (df['W1_C1'] >= 1) & (df['W1_C1'] <= 3)]"
   ]
  },
  {
   "cell_type": "code",
   "execution_count": 4,
   "metadata": {},
   "outputs": [
    {
     "name": "stdout",
     "output_type": "stream",
     "text": [
      "W1_A5A  1.0  2.0  3.0\n",
      "W1_F6                \n",
      "-1        4   23    1\n",
      " 1        5   29    0\n",
      " 2        4   30    0\n",
      " 3       17   47    1\n",
      " 4       19   80    1\n",
      " 5       41  200    2\n",
      " 6       47  191    3\n",
      " 7       72  276    6\n",
      " 8       80  211    0\n",
      " 9       34  101    3\n",
      " 10      45  116    3\n"
     ]
    }
   ],
   "source": [
    "# contingency table of observed counts\n",
    "ct1=pd.crosstab(df1['W1_F6'], df1['W1_A5A'])\n",
    "print (ct1)"
   ]
  },
  {
   "cell_type": "code",
   "execution_count": 5,
   "metadata": {},
   "outputs": [
    {
     "name": "stdout",
     "output_type": "stream",
     "text": [
      "W1_A5A       1.0       2.0   3.0\n",
      "W1_F6                           \n",
      "-1      0.010870  0.017638  0.05\n",
      " 1      0.013587  0.022239  0.00\n",
      " 2      0.010870  0.023006  0.00\n",
      " 3      0.046196  0.036043  0.05\n",
      " 4      0.051630  0.061350  0.05\n",
      " 5      0.111413  0.153374  0.10\n",
      " 6      0.127717  0.146472  0.15\n",
      " 7      0.195652  0.211656  0.30\n",
      " 8      0.217391  0.161810  0.00\n",
      " 9      0.092391  0.077454  0.15\n",
      " 10     0.122283  0.088957  0.15\n"
     ]
    }
   ],
   "source": [
    "# column percentages\n",
    "colsum=ct1.sum(axis=0)\n",
    "colpct=ct1/colsum\n",
    "print(colpct)"
   ]
  },
  {
   "cell_type": "code",
   "execution_count": 6,
   "metadata": {},
   "outputs": [
    {
     "name": "stdout",
     "output_type": "stream",
     "text": [
      "chi-square value, p value, expected counts\n",
      "(27.590043992694298, 0.11946460890382729, 20, array([[  6.08983452,  21.57919622,   0.33096927],\n",
      "       [  7.39479905,  26.20330969,   0.40189125],\n",
      "       [  7.39479905,  26.20330969,   0.40189125],\n",
      "       [ 14.13711584,  50.09456265,   0.76832151],\n",
      "       [ 21.74940898,  77.06855792,   1.1820331 ],\n",
      "       [ 52.85106383, 187.27659574,   2.87234043],\n",
      "       [ 52.41607565, 185.73522459,   2.84869976],\n",
      "       [ 76.9929078 , 272.82269504,   4.18439716],\n",
      "       [ 63.29078014, 224.26950355,   3.43971631],\n",
      "       [ 30.0141844 , 106.35460993,   1.63120567],\n",
      "       [ 35.66903073, 126.39243499,   1.93853428]]))\n"
     ]
    }
   ],
   "source": [
    "# chi-square\n",
    "print ('chi-square value, p value, expected counts')\n",
    "cs1= scipy.stats.chi2_contingency(ct1)\n",
    "print (cs1)"
   ]
  },
  {
   "cell_type": "markdown",
   "metadata": {},
   "source": [
    "Now we investigate whether the variable *W1_C1* moderates thet association between W1_F6 and W1_A5A"
   ]
  },
  {
   "cell_type": "code",
   "execution_count": 7,
   "metadata": {},
   "outputs": [],
   "source": [
    "sub1=df1[(df1['W1_C1']== 1)]\n",
    "sub2=df1[(df1['W1_C1']== 2)]\n",
    "sub3=df1[(df1['W1_C1']== 3)]"
   ]
  },
  {
   "cell_type": "code",
   "execution_count": 8,
   "metadata": {},
   "outputs": [
    {
     "name": "stdout",
     "output_type": "stream",
     "text": [
      "Association between W1_F6 and W1_A5A for Republicans\n",
      "(0.012067822822930115, 0.8429525398567782)\n",
      "       \n",
      "Association between W1_F6 and W1_A5A for Democrats\n",
      "(-0.053446433505905756, 0.08721866846736208)\n",
      "       \n",
      "Association between W1_F6 and internetuserate for Independents\n",
      "(-0.034155825362122236, 0.498482231284581)\n"
     ]
    }
   ],
   "source": [
    "print ('Association between W1_F6 and W1_A5A for Republicans')\n",
    "print (scipy.stats.pearsonr(sub1['W1_F6'], sub1['W1_A5A']))\n",
    "print ('       ')\n",
    "print ('Association between W1_F6 and W1_A5A for Democrats')\n",
    "print (scipy.stats.pearsonr(sub2['W1_F6'], sub2['W1_A5A']))\n",
    "print ('       ')\n",
    "print ('Association between W1_F6 and internetuserate for Independents')\n",
    "print (scipy.stats.pearsonr(sub3['W1_F6'], sub3['W1_A5A']))"
   ]
  },
  {
   "cell_type": "markdown",
   "metadata": {},
   "source": [
    "#### Summary:\n"
   ]
  }
 ],
 "metadata": {
  "kernelspec": {
   "display_name": "Python 3",
   "language": "python",
   "name": "python3"
  },
  "language_info": {
   "codemirror_mode": {
    "name": "ipython",
    "version": 3
   },
   "file_extension": ".py",
   "mimetype": "text/x-python",
   "name": "python",
   "nbconvert_exporter": "python",
   "pygments_lexer": "ipython3",
   "version": "3.8.3"
  }
 },
 "nbformat": 4,
 "nbformat_minor": 4
}
