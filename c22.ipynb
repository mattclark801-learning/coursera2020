{
 "cells": [
  {
   "cell_type": "markdown",
   "metadata": {},
   "source": [
    "### Coursera\n",
    "#### Wesleyan University Data Analysis and Interpretation Specialization\n",
    "###### Course 2: Data Analysis Tools\n",
    "###### Week 2: Chi Squared Test\n",
    "---"
   ]
  },
  {
   "cell_type": "raw",
   "metadata": {},
   "source": [
    "Recall: In week 1 of course 1, we sought to use data from the Outlook on Life Survey to answer the question of whether there existed an association between a person's level of education and their economic optimism (as measured by how nearly the respondent suspected that they would \"reach the american dream\") vis a vis the Dunning Kruger hypothesis.\n",
    "Conclusions were drawn based on the charts produced in week 4 of the same course, but we now bring new tools to bear, namely the Chi Squared test for independence, on the same data."
   ]
  },
  {
   "cell_type": "code",
   "execution_count": 21,
   "metadata": {},
   "outputs": [],
   "source": [
    "#library imports.\n",
    "\n",
    "import pandas as pd\n",
    "import numpy as np\n",
    "import seaborn as sb\n",
    "import matplotlib.pyplot as plt\n",
    "import scipy.stats"
   ]
  },
  {
   "cell_type": "code",
   "execution_count": 6,
   "metadata": {},
   "outputs": [],
   "source": [
    "#generate PANDAS dataframe.\n",
    "\n",
    "df = pd.read_csv('mycodebook.csv', low_memory=False)\n",
    "df1 = df.copy()"
   ]
  },
  {
   "cell_type": "code",
   "execution_count": 9,
   "metadata": {},
   "outputs": [],
   "source": [
    "# The function ISOPT collapses the categorical W1_F6 data into binary levels.\n",
    "\n",
    "def ISOPT (row):\n",
    "  if row >= 5 :\n",
    "      return 1\n",
    "  else:\n",
    "      return 0"
   ]
  },
  {
   "cell_type": "code",
   "execution_count": 12,
   "metadata": {},
   "outputs": [],
   "source": [
    "# The function ISED collapses the categorical PPEDUCAT data into binary levels.\n",
    "\n",
    "def ISED (row):\n",
    "  if row >= 2 :\n",
    "        return 1\n",
    "  else:\n",
    "        return 0"
   ]
  },
  {
   "cell_type": "code",
   "execution_count": 15,
   "metadata": {},
   "outputs": [],
   "source": [
    "# Collapse of the categorical data into two levels. \n",
    "\n",
    "df1['OPT'] = df1['W1_F6'].apply(ISOPT)\n",
    "df1['ED'] = df1['PPEDUCAT'].apply(ISED)"
   ]
  },
  {
   "cell_type": "code",
   "execution_count": 18,
   "metadata": {},
   "outputs": [
    {
     "name": "stdout",
     "output_type": "stream",
     "text": [
      "OPT    0     1\n",
      "ED            \n",
      "0     66   153\n",
      "1    372  1703\n"
     ]
    }
   ],
   "source": [
    "# contingency table of observed counts\n",
    "ct1=pd.crosstab(df1['ED'], df1['OPT'])\n",
    "print (ct1)"
   ]
  },
  {
   "cell_type": "code",
   "execution_count": 19,
   "metadata": {},
   "outputs": [
    {
     "name": "stdout",
     "output_type": "stream",
     "text": [
      "OPT         0         1\n",
      "ED                     \n",
      "0    0.150685  0.082435\n",
      "1    0.849315  0.917565\n"
     ]
    }
   ],
   "source": [
    "# column percentages\n",
    "colsum=ct1.sum(axis=0)\n",
    "colpct=ct1/colsum\n",
    "print(colpct)"
   ]
  },
  {
   "cell_type": "code",
   "execution_count": 22,
   "metadata": {},
   "outputs": [
    {
     "name": "stdout",
     "output_type": "stream",
     "text": [
      "chi-square value, p value, expected counts\n",
      "(18.333207675538368, 1.854463124872358e-05, 1, array([[  41.81429817,  177.18570183],\n",
      "       [ 396.18570183, 1678.81429817]]))\n"
     ]
    }
   ],
   "source": [
    "# chi-square\n",
    "print ('chi-square value, p value, expected counts')\n",
    "cs1= scipy.stats.chi2_contingency(ct1)\n",
    "print (cs1)"
   ]
  },
  {
   "cell_type": "markdown",
   "metadata": {},
   "source": [
    "**Summary:**  The chi-square test has yielded a *p-value* of 1.854463124872358e-05, well below our significance level threshhold of 0.05. With finality we can reject the null hypothesis $H_0$: There is no association between a person's education level and their level of economic optimism."
   ]
  },
  {
   "cell_type": "code",
   "execution_count": null,
   "metadata": {},
   "outputs": [],
   "source": []
  }
 ],
 "metadata": {
  "kernelspec": {
   "display_name": "Python 3",
   "language": "python",
   "name": "python3"
  },
  "language_info": {
   "codemirror_mode": {
    "name": "ipython",
    "version": 3
   },
   "file_extension": ".py",
   "mimetype": "text/x-python",
   "name": "python",
   "nbconvert_exporter": "python",
   "pygments_lexer": "ipython3",
   "version": "3.8.3"
  }
 },
 "nbformat": 4,
 "nbformat_minor": 4
}
