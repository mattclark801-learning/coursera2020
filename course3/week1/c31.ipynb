{
 "cells": [
  {
   "cell_type": "markdown",
   "metadata": {},
   "source": [
    "### Coursera\n",
    "#### Wesleyan University Data Analysis and Interpretation Specialization\n",
    "###### Course 3: Regression Modeling in Practice\n",
    "###### Week 1: Writing About Your Data\n",
    "###### Author: Matt Clark\n",
    "---"
   ]
  },
  {
   "cell_type": "markdown",
   "metadata": {},
   "source": [
    "#### Methods\n",
    "The dataset that I've used whenever possible throughout courses one and two of this program has been the Outlook On Life Survey. Included in the course materials with this survey is a document detailing the surveyy's methods. We outline a few of them here. \n",
    "\n",
    "---\n",
    "#### Sample:\n",
    "The Outlook On Life Survey was administered to 2,294 respondents in the United States over two waves between August and December of 2012. The first wave was comprised of an internet panel administered to 2,294 respondents, with the second wave being comprised of interviews being given to 1,601 of the original 2,294.\n",
    "Respondents to the survey were adults living in the United States who were not institutionalized, which is to say they were adults aged 18 or over, not inmates of penal or mental facilities or homes for the aged.\n",
    "Participants were surveyed as individuals, and divided into four categories:\n",
    "\n",
    "1. African American/Black males aged 18 and older\n",
    "2. African American/Black females aged 18 and older \n",
    "3. White/other race males aged 18 and older \n",
    "4. White/other race females aged 18 older\n",
    "\n",
    "#### Procedures:\n",
    "It's hard to know what the procedures for this survey were. The survey authors claim that their data came as a sample from an internet panel. We also know that participants were drawn from the GfK Knowledge Network, which is a web panel designed to represent the population of the United States. We also understand that Panel members are randomly recruited through probability-based sampling, and households were provided with internet and computer access if needed. \n",
    "#### Measures:\n",
    "Respondents to this survey answered questions pertaining to social class, ethnicity, marital status, feminism, religiosity, and political orientation, gender, household composition and size, household income, employment status, education, and marital status.\n",
    "The variables were largely categorical (nominal, with a few categories). With very few quantitative variables measured.\n",
    "\n",
    "---\n",
    "Resources used for preparing this document include:\n",
    "https://www.icpsr.umich.edu/web/RCMD/studies/35348\n",
    "and the Outlook On Life surveys READ_ME included with this course.\n"
   ]
  }
 ],
 "metadata": {
  "kernelspec": {
   "display_name": "Python 3",
   "language": "python",
   "name": "python3"
  },
  "language_info": {
   "codemirror_mode": {
    "name": "ipython",
    "version": 3
   },
   "file_extension": ".py",
   "mimetype": "text/x-python",
   "name": "python",
   "nbconvert_exporter": "python",
   "pygments_lexer": "ipython3",
   "version": "3.8.3"
  }
 },
 "nbformat": 4,
 "nbformat_minor": 4
}
