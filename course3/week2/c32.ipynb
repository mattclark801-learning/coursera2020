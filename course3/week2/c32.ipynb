{
 "cells": [
  {
   "cell_type": "markdown",
   "metadata": {},
   "source": [
    "### Coursera\n",
    "#### Wesleyan University Data Analysis and Interpretation Specialization\n",
    "\n",
    "Course 3: Regression Modeling in Practice<br>\n",
    "Week 2: Test a Basic Linear Regression Model<br>\n",
    "Author: Matt Clark"
   ]
  },
  {
   "cell_type": "markdown",
   "metadata": {},
   "source": [
    "###### Introduction:\n",
    "\n",
    "This week we're tasked to create a linear regression model. For our data set we'll continue to use the Outlook On Life survey. Our explanatory variable will be Level of Education (PPEDUCAT), a categorical variable. We'll collapse it into two levels. Our response variable will be Economic Optimism (W1_F6), as measured by how nearly a person expects to achieve the \"American Dream\" a categorical variable of ten levels. We will need to center this variable."
   ]
  },
  {
   "cell_type": "code",
   "execution_count": 1,
   "metadata": {},
   "outputs": [],
   "source": [
    "# import libraries\n",
    "\n",
    "import pandas as pd\n",
    "import numpy as np\n",
    "import seaborn as sb\n",
    "import scipy\n",
    "import matplotlib.pyplot as plt\n",
    "import statsmodels.api\n",
    "import statsmodels.formula.api as smf\n",
    "from pathlib import Path"
   ]
  },
  {
   "cell_type": "code",
   "execution_count": 2,
   "metadata": {},
   "outputs": [],
   "source": [
    "# generate dataframe\n",
    "\n",
    "root_dir = Path().resolve().parents[1]\n",
    "df = pd.read_csv(str(root_dir)+'/mycodebook.csv', low_memory=False)"
   ]
  },
  {
   "cell_type": "code",
   "execution_count": 3,
   "metadata": {},
   "outputs": [],
   "source": [
    "# bin the variable PPEDUCAT into two categories: High School or less, or something more than High School.\n",
    "\n",
    "def collapse_variable (row):\n",
    "   if row >= 3 :\n",
    "       return 1\n",
    "   else:\n",
    "       return 0\n",
    "    \n",
    "df['PPEDUCAT'] = df['PPEDUCAT'].apply(collapse_variable)"
   ]
  },
  {
   "cell_type": "code",
   "execution_count": 4,
   "metadata": {},
   "outputs": [
    {
     "name": "stdout",
     "output_type": "stream",
     "text": [
      "0     919\n",
      "1    1375\n",
      "Name: PPEDUCAT, dtype: int64\n"
     ]
    }
   ],
   "source": [
    "# We generate a frequency table for this variable to check our coding.\n",
    "\n",
    "check = df['PPEDUCAT'].value_counts(sort=False, dropna=False)\n",
    "print (check)"
   ]
  },
  {
   "cell_type": "code",
   "execution_count": 5,
   "metadata": {},
   "outputs": [
    {
     "name": "stdout",
     "output_type": "stream",
     "text": [
      "OLS regression model for the association between level of education and economic optimism\n",
      "                            OLS Regression Results                            \n",
      "==============================================================================\n",
      "Dep. Variable:                  W1_F6   R-squared:                       0.057\n",
      "Model:                            OLS   Adj. R-squared:                  0.057\n",
      "Method:                 Least Squares   F-statistic:                     139.3\n",
      "Date:                Tue, 29 Sep 2020   Prob (F-statistic):           2.97e-31\n",
      "Time:                        15:51:12   Log-Likelihood:                -5254.3\n",
      "No. Observations:                2294   AIC:                         1.051e+04\n",
      "Df Residuals:                    2292   BIC:                         1.052e+04\n",
      "Df Model:                           1                                         \n",
      "Covariance Type:            nonrobust                                         \n",
      "==============================================================================\n",
      "                 coef    std err          t      P>|t|      [0.025      0.975]\n",
      "------------------------------------------------------------------------------\n",
      "Intercept      5.4918      0.079     69.613      0.000       5.337       5.647\n",
      "PPEDUCAT       1.2027      0.102     11.803      0.000       1.003       1.403\n",
      "==============================================================================\n",
      "Omnibus:                      193.279   Durbin-Watson:                   1.983\n",
      "Prob(Omnibus):                  0.000   Jarque-Bera (JB):              250.736\n",
      "Skew:                          -0.726   Prob(JB):                     3.58e-55\n",
      "Kurtosis:                       3.719   Cond. No.                         2.92\n",
      "==============================================================================\n",
      "\n",
      "Warnings:\n",
      "[1] Standard Errors assume that the covariance matrix of the errors is correctly specified.\n"
     ]
    }
   ],
   "source": [
    "# Linear Regression Model\n",
    "print (\"OLS regression model for the association between level of education and economic optimism\")\n",
    "reg1 = smf.ols('W1_F6 ~ PPEDUCAT', data=df).fit()\n",
    "print (reg1.summary())"
   ]
  },
  {
   "cell_type": "markdown",
   "metadata": {},
   "source": [
    "###### Summary:\n",
    "\n",
    "The results of our linear regression model indicate that a respondent's Level of Education ($\\beta = 1.2027$, $p = 2.97 \\times 10^{31}$) was not insignificantly associated with their Economic Optimism, with that association being positive."
   ]
  }
 ],
 "metadata": {
  "kernelspec": {
   "display_name": "Python 3",
   "language": "python",
   "name": "python3"
  },
  "language_info": {
   "codemirror_mode": {
    "name": "ipython",
    "version": 3
   },
   "file_extension": ".py",
   "mimetype": "text/x-python",
   "name": "python",
   "nbconvert_exporter": "python",
   "pygments_lexer": "ipython3",
   "version": "3.8.3"
  }
 },
 "nbformat": 4,
 "nbformat_minor": 4
}
